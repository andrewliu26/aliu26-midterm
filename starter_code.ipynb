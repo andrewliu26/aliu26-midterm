{
 "cells": [
  {
   "cell_type": "markdown",
   "metadata": {},
   "source": [
    "# Libraries"
   ]
  },
  {
   "cell_type": "code",
   "execution_count": 3,
   "metadata": {},
   "outputs": [],
   "source": [
    "import pandas as pd\n",
    "import numpy as np\n",
    "from os.path import exists\n",
    "from sklearn.neighbors import KNeighborsClassifier\n",
    "from sklearn.feature_extraction.text import TfidfVectorizer\n",
    "from sklearn.model_selection import train_test_split\n",
    "from sklearn.metrics import accuracy_score, confusion_matrix\n",
    "from sklearn.preprocessing import StandardScaler\n",
    "from sklearn.utils import class_weight\n",
    "import matplotlib.pyplot as plt\n",
    "import seaborn as sns\n",
    "from datetime import datetime"
   ]
  },
  {
   "cell_type": "markdown",
   "metadata": {},
   "source": [
    "# Loading the Files\n",
    "\n",
    "Download the csv files into the `data/` directory."
   ]
  },
  {
   "cell_type": "code",
   "execution_count": 4,
   "metadata": {},
   "outputs": [
    {
     "data": {
      "image/png": "[encoded data removed]",
      "text/plain": [
       "<Figure size 640x480 with 1 Axes>"
      ]
     },
     "metadata": {},
     "output_type": "display_data"
    },
    {
     "name": "stdout",
     "output_type": "stream",
     "text": [
      "EVERYTHING IS PROPERLY SET UP! YOU ARE READY TO START\n"
     ]
    }
   ],
   "source": [
    "# Load data\n",
    "trainingSet = pd.read_csv(\"./data/train.csv\")\n",
    "testingSet = pd.read_csv(\"./data/test.csv\")\n",
    "\n",
    "# Plot distribution of scores in the training set\n",
    "trainingSet['Score'].value_counts().plot(kind='bar', legend=True, alpha=.5)\n",
    "plt.show()\n",
    "print(\"EVERYTHING IS PROPERLY SET UP! YOU ARE READY TO START\")"
   ]
  },
  {
   "cell_type": "markdown",
   "metadata": {},
   "source": [
    "# Adding Features"
   ]
  },
  {
   "cell_type": "code",
   "execution_count": 5,
   "metadata": {},
   "outputs": [],
   "source": [
    "def add_features_to(df, helpfulness_threshold=0.7):\n",
    "    # Handle missing values for helpfulness\n",
    "    df['HelpfulnessNumerator'] = df['HelpfulnessNumerator'].fillna(0)\n",
    "    df['HelpfulnessDenominator'] = df['HelpfulnessDenominator'].fillna(0)\n",
    "    df['Helpfulness'] = df['HelpfulnessNumerator'] / df['HelpfulnessDenominator']\n",
    "    df['Helpfulness'] = df['Helpfulness'].replace([np.inf, -np.inf], 0).fillna(0)\n",
    "\n",
    "    # Helpfulness Bucket based on threshold\n",
    "    conditions = [\n",
    "        (df['Helpfulness'] == 0),\n",
    "        (df['Helpfulness'] > 0) & (df['Helpfulness'] <= helpfulness_threshold),\n",
    "        (df['Helpfulness'] > helpfulness_threshold)\n",
    "    ]\n",
    "    choices = ['bad', 'medium', 'good']\n",
    "    df['HelpfulnessBucket'] = np.select(conditions, choices, default='medium')\n",
    "\n",
    "    # Convert HelpfulnessBucket to categorical codes for model compatibility\n",
    "    df['HelpfulnessBucket'] = df['HelpfulnessBucket'].astype('category').cat.codes\n",
    "\n",
    "    # Convert Time to relative time (years since the review was written)\n",
    "    current_year = datetime.now().year\n",
    "    df['Year'] = pd.to_datetime(df['Time'], unit='s').dt.year\n",
    "    df['YearsAgo'] = current_year - df['Year']\n",
    "\n",
    "    # Text-based features with missing value handling\n",
    "    df['TextLength'] = df['Text'].apply(lambda x: len(str(x).split()) if pd.notnull(x) else 0)\n",
    "    df['SummaryLength'] = df['Summary'].apply(lambda x: len(str(x).split()) if pd.notnull(x) else 0)\n",
    "    \n",
    "    # Drop the original 'Time' and 'Year' columns if not needed\n",
    "    df = df.drop(columns=['Time', 'Year'])\n",
    "    \n",
    "    return df\n",
    "\n",
    "# Load the feature extracted files if they've already been generated\n",
    "if exists('./data/X_train.csv'):\n",
    "    X_train = pd.read_csv(\"./data/X_train.csv\")\n",
    "if exists('./data/X_submission.csv'):\n",
    "    X_submission = pd.read_csv(\"./data/X_submission.csv\")\n",
    "\n",
    "else:\n",
    "    # Process the DataFrame\n",
    "    train = add_features_to(trainingSet)\n",
    "\n",
    "    # Merge on Id so that the submission set can have feature columns as well\n",
    "    X_submission = pd.merge(train, testingSet, left_on='Id', right_on='Id')\n",
    "    X_submission = X_submission.drop(columns=['Score_x'])\n",
    "    X_submission = X_submission.rename(columns={'Score_y': 'Score'})\n",
    "\n",
    "    # The training set is where the score is not null\n",
    "    X_train = train[train['Score'].notnull()]\n",
    "\n",
    "    X_submission.to_csv(\"./data/X_submission.csv\", index=False)\n",
    "    X_train.to_csv(\"./data/X_train.csv\", index=False)"
   ]
  },
  {
   "cell_type": "markdown",
   "metadata": {},
   "source": [
    "# Sample + Split + Feature Selection"
   ]
  },
  {
   "cell_type": "code",
   "execution_count": 6,
   "metadata": {},
   "outputs": [],
   "source": [
    "# Split training set into training and testing set\n",
    "X_train, X_test, Y_train, Y_test = train_test_split(\n",
    "    X_train.drop(columns=['Score']),\n",
    "    X_train['Score'],\n",
    "    test_size=0.25,\n",
    "    random_state=0\n",
    ")\n",
    "\n",
    "# Feature Selection\n",
    "features = ['HelpfulnessNumerator', 'HelpfulnessDenominator', 'Helpfulness', 'HelpfulnessBucket', 'YearsAgo', 'TextLength', 'SummaryLength']\n",
    "X_train_select = X_train[features]\n",
    "X_test_select = X_test[features]\n",
    "X_submission_select = X_submission[features]"
   ]
  },
  {
   "cell_type": "markdown",
   "metadata": {},
   "source": [
    "# TF-IDF Vectorization"
   ]
  },
  {
   "cell_type": "code",
   "execution_count": 7,
   "metadata": {},
   "outputs": [],
   "source": [
    "# TF-IDF Vectorization\n",
    "vectorizer = TfidfVectorizer(max_features=200)  # Limiting to top 200 words\n",
    "\n",
    "# Fit and transform the training, test, and submission sets\n",
    "tfidf_train = vectorizer.fit_transform(X_train['Text'].fillna(\"\")).toarray()\n",
    "tfidf_test = vectorizer.transform(X_test['Text'].fillna(\"\")).toarray()\n",
    "tfidf_submission = vectorizer.transform(X_submission['Text'].fillna(\"\")).toarray()\n",
    "\n",
    "# Convert TF-IDF to DataFrames and concatenate with non-TF-IDF features\n",
    "tfidf_columns = vectorizer.get_feature_names_out()\n",
    "tfidf_train_df = pd.DataFrame(tfidf_train, columns=tfidf_columns)\n",
    "tfidf_test_df = pd.DataFrame(tfidf_test, columns=tfidf_columns)\n",
    "tfidf_submission_df = pd.DataFrame(tfidf_submission, columns=tfidf_columns)"
   ]
  },
  {
   "cell_type": "markdown",
   "metadata": {},
   "source": [
    "# Scale and Combine Non-TF-IDF Features"
   ]
  },
  {
   "cell_type": "code",
   "execution_count": 8,
   "metadata": {},
   "outputs": [],
   "source": [
    "# Scale non-TF-IDF features\n",
    "scaler = StandardScaler()\n",
    "X_train_scaled = scaler.fit_transform(X_train_select)\n",
    "X_test_scaled = scaler.transform(X_test_select)\n",
    "X_submission_scaled = scaler.transform(X_submission_select)\n",
    "\n",
    "# Convert scaled features back to DataFrames\n",
    "X_train_scaled_df = pd.DataFrame(X_train_scaled, columns=X_train_select.columns)\n",
    "X_test_scaled_df = pd.DataFrame(X_test_scaled, columns=X_test_select.columns)\n",
    "X_submission_scaled_df = pd.DataFrame(X_submission_scaled, columns=X_submission_select.columns)\n",
    "\n",
    "# Concatenate scaled features with TF-IDF features\n",
    "X_train_final = pd.concat([X_train_scaled_df.reset_index(drop=True), tfidf_train_df.reset_index(drop=True)], axis=1)\n",
    "X_test_final = pd.concat([X_test_scaled_df.reset_index(drop=True), tfidf_test_df.reset_index(drop=True)], axis=1)\n",
    "X_submission_final = pd.concat([X_submission_scaled_df.reset_index(drop=True), tfidf_submission_df.reset_index(drop=True)], axis=1)"
   ]
  },
  {
   "cell_type": "markdown",
   "metadata": {},
   "source": [
    "# Calculate Class Weights"
   ]
  },
  {
   "cell_type": "code",
   "execution_count": 9,
   "metadata": {},
   "outputs": [
    {
     "name": "stdout",
     "output_type": "stream",
     "text": [
      "Class Weights: {1.0: 3.2628580633823443, 2.0: 3.3119425615412057, 3.0: 1.6890251760656807, 4.0: 0.8861776006491182, 5.0: 0.37437995698346554}\n"
     ]
    }
   ],
   "source": [
    "# Calculate class weights\n",
    "unique_classes = np.unique(Y_train)\n",
    "class_weights = class_weight.compute_class_weight(class_weight='balanced', classes=unique_classes, y=Y_train)\n",
    "class_weights_dict = dict(zip(unique_classes, class_weights))\n",
    "print(\"Class Weights:\", class_weights_dict)"
   ]
  },
  {
   "cell_type": "markdown",
   "metadata": {},
   "source": [
    "# Balanced Weighted KNN"
   ]
  },
  {
   "cell_type": "code",
   "execution_count": 10,
   "metadata": {},
   "outputs": [],
   "source": [
    "class BalancedWeightedKNN(KNeighborsClassifier):\n",
    "    def __init__(self, n_neighbors=5, weights='distance', p=2, class_weights=None, alpha=0.5):\n",
    "        super().__init__(n_neighbors=n_neighbors, weights=weights, p=p)\n",
    "        self.class_weights = class_weights\n",
    "        self.alpha = alpha  # Parameter to control class weight influence\n",
    "\n",
    "    def predict(self, X):\n",
    "        # Get distances and indices of neighbors\n",
    "        neighbors_distances, neighbors_indices = self.kneighbors(X)\n",
    "\n",
    "        # Get weights for each neighbor\n",
    "        neighbors_weights = 1 / (neighbors_distances + 1e-5)\n",
    "        \n",
    "        # Apply scaled class weights\n",
    "        for i, indices in enumerate(neighbors_indices):\n",
    "            for j, idx in enumerate(indices):\n",
    "                neighbor_class = self._y[idx]\n",
    "                class_weight = self.class_weights.get(neighbor_class, 1)\n",
    "                neighbors_weights[i, j] *= class_weight ** self.alpha\n",
    "\n",
    "        # Predict class by summing weighted votes\n",
    "        predictions = []\n",
    "        for i, weights in enumerate(neighbors_weights):\n",
    "            class_votes = np.bincount(\n",
    "                self._y[neighbors_indices[i]],\n",
    "                weights=weights,\n",
    "                minlength=len(self.classes_)\n",
    "            )\n",
    "            predictions.append(self.classes_[np.argmax(class_votes)])\n",
    "        \n",
    "        return np.array(predictions)"
   ]
  },
  {
   "cell_type": "markdown",
   "metadata": {},
   "source": [
    "# Cross Validation for Hyperparameter Tuning"
   ]
  },
  {
   "cell_type": "code",
   "execution_count": 11,
   "metadata": {},
   "outputs": [
    {
     "name": "stdout",
     "output_type": "stream",
     "text": [
      "Accuracy with n_neighbors=50, alpha=0.5: 0.5432516012046624\n",
      "Accuracy with n_neighbors=50, alpha=0.75: 0.519472533785755\n",
      "Accuracy with n_neighbors=250, alpha=0.5: 0.5507381026117477\n",
      "Accuracy with n_neighbors=250, alpha=0.75: 0.5284581307983357\n",
      "Accuracy with n_neighbors=500, alpha=0.5: 0.5488260824682115\n",
      "Accuracy with n_neighbors=500, alpha=0.75: 0.527282193526959\n",
      "Best parameters: {'n_neighbors': 250, 'alpha': 0.5}\n",
      "Best accuracy on validation set: 0.5507381026117477\n"
     ]
    }
   ],
   "source": [
    "# Split the training set into a smaller training and validation set\n",
    "X_train_tune, X_val, Y_train_tune, Y_val = train_test_split(\n",
    "    X_train_final, Y_train, test_size=0.2, random_state=42\n",
    ")\n",
    "\n",
    "# Set limited parameter options\n",
    "param_options = {\n",
    "    'n_neighbors': [50, 250, 500],  # Adjust based on what has worked well previously\n",
    "    'alpha': [0.5, 0.75]            # Narrowed range based on past observations\n",
    "}\n",
    "\n",
    "best_accuracy = 0\n",
    "best_params = {}\n",
    "\n",
    "# Quick parameter search\n",
    "for n_neighbors in param_options['n_neighbors']:\n",
    "    for alpha in param_options['alpha']:\n",
    "        model = BalancedWeightedKNN(n_neighbors=n_neighbors, p=2, class_weights=class_weights_dict, alpha=alpha)\n",
    "        model.fit(X_train_tune, Y_train_tune)\n",
    "        \n",
    "        # Evaluate on the validation set\n",
    "        Y_val_predictions = model.predict(X_val)\n",
    "        accuracy = accuracy_score(Y_val, Y_val_predictions)\n",
    "        print(f\"Accuracy with n_neighbors={n_neighbors}, alpha={alpha}: {accuracy}\")\n",
    "        \n",
    "        # Track the best parameters\n",
    "        if accuracy > best_accuracy:\n",
    "            best_accuracy = accuracy\n",
    "            best_params = {'n_neighbors': n_neighbors, 'alpha': alpha}\n",
    "\n",
    "print(\"Best parameters:\", best_params)\n",
    "print(\"Best accuracy on validation set:\", best_accuracy)"
   ]
  },
  {
   "cell_type": "markdown",
   "metadata": {},
   "source": [
    "# Train and Evaluate Balanced KNN Model"
   ]
  },
  {
   "cell_type": "code",
   "execution_count": 12,
   "metadata": {},
   "outputs": [
    {
     "name": "stdout",
     "output_type": "stream",
     "text": [
      "Final accuracy on testing set: 0.5509511601352952\n"
     ]
    },
    {
     "data": {
      "image/png": "[encoded data removed]",
      "text/plain": [
       "<Figure size 640x480 with 2 Axes>"
      ]
     },
     "metadata": {},
     "output_type": "display_data"
    }
   ],
   "source": [
    "best_model = BalancedWeightedKNN(n_neighbors=best_params['n_neighbors'], p=2, class_weights=class_weights_dict, alpha=best_params['alpha'])\n",
    "best_model.fit(X_train_final, Y_train)\n",
    "Y_test_predictions = best_model.predict(X_test_final)\n",
    "\n",
    "# Final accuracy and confusion matrix\n",
    "final_accuracy = accuracy_score(Y_test, Y_test_predictions)\n",
    "print(\"Final accuracy on testing set:\", final_accuracy)\n",
    "cm = confusion_matrix(Y_test, Y_test_predictions, normalize='true')\n",
    "sns.heatmap(cm, annot=True)\n",
    "plt.title('Confusion matrix of the final balanced-weighted KNN classifier')\n",
    "plt.xlabel('Predicted')\n",
    "plt.ylabel('True')\n",
    "plt.show()"
   ]
  },
  {
   "cell_type": "markdown",
   "metadata": {},
   "source": [
    "# Create submission file"
   ]
  },
  {
   "cell_type": "code",
   "execution_count": 13,
   "metadata": {},
   "outputs": [],
   "source": [
    "# Predict on Submission Set\n",
    "X_submission['Score'] = best_model.predict(X_submission_final)\n",
    "submission = X_submission[['Id', 'Score']]\n",
    "submission.to_csv(\"./data/submission.csv\", index=False)"
   ]
  }
 ],
 "metadata": {
  "kernelspec": {
   "display_name": "base",
   "language": "python",
   "name": "python3"
  },
  "language_info": {
   "codemirror_mode": {
    "name": "ipython",
    "version": 3
   },
   "file_extension": ".py",
   "mimetype": "text/x-python",
   "name": "python",
   "nbconvert_exporter": "python",
   "pygments_lexer": "ipython3",
   "version": "3.12.4"
  }
 },
 "nbformat": 4,
 "nbformat_minor": 2
}
